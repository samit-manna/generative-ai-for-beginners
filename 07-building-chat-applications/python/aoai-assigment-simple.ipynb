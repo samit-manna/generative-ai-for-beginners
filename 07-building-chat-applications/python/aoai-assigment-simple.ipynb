{
 "cells": [
  {
   "cell_type": "code",
   "execution_count": null,
   "metadata": {},
   "outputs": [],
   "source": [
    "# Create virtual environment\n",
    "! python3 -m venv venv\n",
    "# Activate virtual environment\n",
    "! source venv/bin/activate\n",
    "# Install openai package\n",
    "! pip3 install openai dotenv"
   ]
  },
  {
   "cell_type": "code",
   "execution_count": 13,
   "metadata": {},
   "outputs": [],
   "source": [
    "import os\n",
    "from openai import AzureOpenAI\n",
    "import dotenv\n",
    "dotenv.load_dotenv()\n",
    "\n",
    "client = AzureOpenAI(\n",
    "  azure_endpoint = os.environ[\"AZURE_OPENAI_ENDPOINT\"], \n",
    "  api_key=os.environ['AZURE_OPENAI_API_KEY'],  \n",
    "  api_version = \"2023-10-01-preview\"\n",
    "  )\n",
    "\n",
    "deployment = os.environ['AZURE_OPENAI_DEPLOYMENT']"
   ]
  },
  {
   "cell_type": "code",
   "execution_count": 14,
   "metadata": {},
   "outputs": [
    {
     "name": "stdout",
     "output_type": "stream",
     "text": [
      "I'm sorry to hear your foot hurts. There are many possible reasons for foot pain, ranging from minor issues to more serious conditions. Some common causes include:\n",
      "\n",
      "- **Injury or trauma:** sprains, strains, fractures, or bruises.\n",
      "- **Overuse:** plantar fasciitis, tendonitis, or stress fractures.\n",
      "- **Inflammation:** arthritis or gout.\n",
      "- **Nerve problems:** pinched nerves or neuropathy.\n",
      "- **Infections:** which might cause localized pain and swelling.\n",
      "- **Poor footwear:** shoes that don't provide adequate support.\n",
      "\n",
      "To help narrow it down, consider:\n",
      "\n",
      "- Where exactly is the pain located?\n",
      "- When did it start, and was there any injury?\n",
      "- Is it sharp, dull, throbbing, or burning?\n",
      "- Is there swelling, redness, or warmth?\n",
      "- Does the pain worsen with activity or rest?\n",
      "\n",
      "If the pain is severe, persistent, worsening, or accompanied by other symptoms like swelling, redness, numbness, or difficulty walking, it's important to see a healthcare professional for a proper diagnosis and treatment.\n",
      "\n",
      "If you'd like, you can provide more details about your symptoms, and I can try to help further.\n"
     ]
    }
   ],
   "source": [
    "# Create your first \n",
    "\n",
    "prompt = \"SMy foot hurts, what can be wrong?\"\n",
    "messages = [{\"role\": \"user\", \"content\": prompt}]  \n",
    "\n",
    "# make completion\n",
    "completion = client.chat.completions.create(model=deployment, messages=messages, max_tokens=600)\n",
    "\n",
    "# print response\n",
    "print(completion.choices[0].message.content)"
   ]
  }
 ],
 "metadata": {
  "kernelspec": {
   "display_name": "Python 3",
   "language": "python",
   "name": "python3"
  },
  "language_info": {
   "codemirror_mode": {
    "name": "ipython",
    "version": 3
   },
   "file_extension": ".py",
   "mimetype": "text/x-python",
   "name": "python",
   "nbconvert_exporter": "python",
   "pygments_lexer": "ipython3",
   "version": "3.9.6"
  },
  "orig_nbformat": 4
 },
 "nbformat": 4,
 "nbformat_minor": 2
}
