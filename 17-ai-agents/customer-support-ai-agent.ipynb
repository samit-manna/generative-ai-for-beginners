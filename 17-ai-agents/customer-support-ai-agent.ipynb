{
 "cells": [
  {
   "cell_type": "markdown",
   "id": "9726591f",
   "metadata": {},
   "source": [
    "Let’s walk step-by-step to build a practice AI agent. We'll build a simple customer support agent using OpenAI (or Azure OpenAI), LangChain, and Python, which can:\n",
    "\n",
    "Greet users\n",
    "\n",
    "Answer basic product FAQs\n",
    "\n",
    "Escalate complex issues to a human\n",
    "\n",
    "Use memory to remember previous conversation"
   ]
  },
  {
   "cell_type": "markdown",
   "id": "1168b324",
   "metadata": {},
   "source": [
    "✅ Step 1: Define the Agent's Purpose\n",
    "We'll build an AI agent that mimics a support assistant for an e-commerce site.\n",
    "\n",
    "Capabilities:\n",
    "\n",
    "Handles greetings and small talk\n",
    "\n",
    "Answers product FAQs from a knowledge base (e.g., shipping, returns)\n",
    "\n",
    "Escalates to human for unknown questions\n",
    "\n",
    "Remembers name of user if asked"
   ]
  },
  {
   "cell_type": "code",
   "execution_count": 1,
   "id": "9960d315",
   "metadata": {},
   "outputs": [
    {
     "name": "stdout",
     "output_type": "stream",
     "text": [
      "Requirement already satisfied: langchain in /Users/samit.manna/Documents/Passion Projects/generative-ai-for-beginners/venv/lib/python3.9/site-packages (0.3.26)\n",
      "Requirement already satisfied: openai in /Users/samit.manna/Documents/Passion Projects/generative-ai-for-beginners/venv/lib/python3.9/site-packages (1.93.0)\n",
      "Requirement already satisfied: python-dotenv in /Users/samit.manna/Documents/Passion Projects/generative-ai-for-beginners/venv/lib/python3.9/site-packages (1.1.0)\n",
      "Requirement already satisfied: langchain-text-splitters<1.0.0,>=0.3.8 in /Users/samit.manna/Documents/Passion Projects/generative-ai-for-beginners/venv/lib/python3.9/site-packages (from langchain) (0.3.8)\n",
      "Requirement already satisfied: async-timeout<5.0.0,>=4.0.0 in /Users/samit.manna/Documents/Passion Projects/generative-ai-for-beginners/venv/lib/python3.9/site-packages (from langchain) (4.0.3)\n",
      "Requirement already satisfied: langchain-core<1.0.0,>=0.3.66 in /Users/samit.manna/Documents/Passion Projects/generative-ai-for-beginners/venv/lib/python3.9/site-packages (from langchain) (0.3.68)\n",
      "Requirement already satisfied: pydantic<3.0.0,>=2.7.4 in /Users/samit.manna/Documents/Passion Projects/generative-ai-for-beginners/venv/lib/python3.9/site-packages (from langchain) (2.11.7)\n",
      "Requirement already satisfied: langsmith>=0.1.17 in /Users/samit.manna/Documents/Passion Projects/generative-ai-for-beginners/venv/lib/python3.9/site-packages (from langchain) (0.4.5)\n",
      "Requirement already satisfied: SQLAlchemy<3,>=1.4 in /Users/samit.manna/Documents/Passion Projects/generative-ai-for-beginners/venv/lib/python3.9/site-packages (from langchain) (2.0.41)\n",
      "Requirement already satisfied: requests<3,>=2 in /Users/samit.manna/Documents/Passion Projects/generative-ai-for-beginners/venv/lib/python3.9/site-packages (from langchain) (2.32.4)\n",
      "Requirement already satisfied: PyYAML>=5.3 in /Users/samit.manna/Documents/Passion Projects/generative-ai-for-beginners/venv/lib/python3.9/site-packages (from langchain) (6.0.2)\n",
      "Requirement already satisfied: httpx<1,>=0.23.0 in /Users/samit.manna/Documents/Passion Projects/generative-ai-for-beginners/venv/lib/python3.9/site-packages (from openai) (0.28.1)\n",
      "Requirement already satisfied: sniffio in /Users/samit.manna/Documents/Passion Projects/generative-ai-for-beginners/venv/lib/python3.9/site-packages (from openai) (1.3.1)\n",
      "Requirement already satisfied: tqdm>4 in /Users/samit.manna/Documents/Passion Projects/generative-ai-for-beginners/venv/lib/python3.9/site-packages (from openai) (4.67.1)\n",
      "Requirement already satisfied: distro<2,>=1.7.0 in /Users/samit.manna/Documents/Passion Projects/generative-ai-for-beginners/venv/lib/python3.9/site-packages (from openai) (1.9.0)\n",
      "Requirement already satisfied: jiter<1,>=0.4.0 in /Users/samit.manna/Documents/Passion Projects/generative-ai-for-beginners/venv/lib/python3.9/site-packages (from openai) (0.10.0)\n",
      "Requirement already satisfied: anyio<5,>=3.5.0 in /Users/samit.manna/Documents/Passion Projects/generative-ai-for-beginners/venv/lib/python3.9/site-packages (from openai) (4.9.0)\n",
      "Requirement already satisfied: typing-extensions<5,>=4.11 in /Users/samit.manna/Documents/Passion Projects/generative-ai-for-beginners/venv/lib/python3.9/site-packages (from openai) (4.14.1)\n",
      "Requirement already satisfied: idna>=2.8 in /Users/samit.manna/Documents/Passion Projects/generative-ai-for-beginners/venv/lib/python3.9/site-packages (from anyio<5,>=3.5.0->openai) (3.10)\n",
      "Requirement already satisfied: exceptiongroup>=1.0.2 in /Users/samit.manna/Documents/Passion Projects/generative-ai-for-beginners/venv/lib/python3.9/site-packages (from anyio<5,>=3.5.0->openai) (1.3.0)\n",
      "Requirement already satisfied: httpcore==1.* in /Users/samit.manna/Documents/Passion Projects/generative-ai-for-beginners/venv/lib/python3.9/site-packages (from httpx<1,>=0.23.0->openai) (1.0.9)\n",
      "Requirement already satisfied: certifi in /Users/samit.manna/Documents/Passion Projects/generative-ai-for-beginners/venv/lib/python3.9/site-packages (from httpx<1,>=0.23.0->openai) (2025.6.15)\n",
      "Requirement already satisfied: h11>=0.16 in /Users/samit.manna/Documents/Passion Projects/generative-ai-for-beginners/venv/lib/python3.9/site-packages (from httpcore==1.*->httpx<1,>=0.23.0->openai) (0.16.0)\n",
      "Requirement already satisfied: tenacity!=8.4.0,<10.0.0,>=8.1.0 in /Users/samit.manna/Documents/Passion Projects/generative-ai-for-beginners/venv/lib/python3.9/site-packages (from langchain-core<1.0.0,>=0.3.66->langchain) (9.1.2)\n",
      "Requirement already satisfied: jsonpatch<2.0,>=1.33 in /Users/samit.manna/Documents/Passion Projects/generative-ai-for-beginners/venv/lib/python3.9/site-packages (from langchain-core<1.0.0,>=0.3.66->langchain) (1.33)\n",
      "Requirement already satisfied: packaging<25,>=23.2 in /Users/samit.manna/Documents/Passion Projects/generative-ai-for-beginners/venv/lib/python3.9/site-packages (from langchain-core<1.0.0,>=0.3.66->langchain) (24.2)\n",
      "Requirement already satisfied: jsonpointer>=1.9 in /Users/samit.manna/Documents/Passion Projects/generative-ai-for-beginners/venv/lib/python3.9/site-packages (from jsonpatch<2.0,>=1.33->langchain-core<1.0.0,>=0.3.66->langchain) (3.0.0)\n",
      "Requirement already satisfied: orjson<4.0.0,>=3.9.14 in /Users/samit.manna/Documents/Passion Projects/generative-ai-for-beginners/venv/lib/python3.9/site-packages (from langsmith>=0.1.17->langchain) (3.10.18)\n",
      "Requirement already satisfied: zstandard<0.24.0,>=0.23.0 in /Users/samit.manna/Documents/Passion Projects/generative-ai-for-beginners/venv/lib/python3.9/site-packages (from langsmith>=0.1.17->langchain) (0.23.0)\n",
      "Requirement already satisfied: requests-toolbelt<2.0.0,>=1.0.0 in /Users/samit.manna/Documents/Passion Projects/generative-ai-for-beginners/venv/lib/python3.9/site-packages (from langsmith>=0.1.17->langchain) (1.0.0)\n",
      "Requirement already satisfied: pydantic-core==2.33.2 in /Users/samit.manna/Documents/Passion Projects/generative-ai-for-beginners/venv/lib/python3.9/site-packages (from pydantic<3.0.0,>=2.7.4->langchain) (2.33.2)\n",
      "Requirement already satisfied: typing-inspection>=0.4.0 in /Users/samit.manna/Documents/Passion Projects/generative-ai-for-beginners/venv/lib/python3.9/site-packages (from pydantic<3.0.0,>=2.7.4->langchain) (0.4.1)\n",
      "Requirement already satisfied: annotated-types>=0.6.0 in /Users/samit.manna/Documents/Passion Projects/generative-ai-for-beginners/venv/lib/python3.9/site-packages (from pydantic<3.0.0,>=2.7.4->langchain) (0.7.0)\n",
      "Requirement already satisfied: charset_normalizer<4,>=2 in /Users/samit.manna/Documents/Passion Projects/generative-ai-for-beginners/venv/lib/python3.9/site-packages (from requests<3,>=2->langchain) (3.4.2)\n",
      "Requirement already satisfied: urllib3<3,>=1.21.1 in /Users/samit.manna/Documents/Passion Projects/generative-ai-for-beginners/venv/lib/python3.9/site-packages (from requests<3,>=2->langchain) (2.4.0)\n",
      "\u001b[33mWARNING: You are using pip version 21.2.4; however, version 25.1.1 is available.\n",
      "You should consider upgrading via the '/Users/samit.manna/Documents/Passion Projects/generative-ai-for-beginners/venv/bin/python3 -m pip install --upgrade pip' command.\u001b[0m\n"
     ]
    }
   ],
   "source": [
    "!pip install langchain openai python-dotenv"
   ]
  },
  {
   "cell_type": "code",
   "execution_count": 10,
   "id": "76775d9a",
   "metadata": {},
   "outputs": [],
   "source": [
    "import os\n",
    "from langchain.chat_models import AzureChatOpenAI\n",
    "from langchain.agents import initialize_agent, Tool\n",
    "from langchain.agents.agent_types import AgentType\n",
    "from langchain.memory import ConversationBufferMemory\n",
    "from dotenv import load_dotenv"
   ]
  },
  {
   "cell_type": "code",
   "execution_count": 32,
   "id": "eac40ac4",
   "metadata": {},
   "outputs": [
    {
     "data": {
      "text/plain": [
       "True"
      ]
     },
     "execution_count": 32,
     "metadata": {},
     "output_type": "execute_result"
    }
   ],
   "source": [
    "load_dotenv()"
   ]
  },
  {
   "cell_type": "code",
   "execution_count": 25,
   "id": "196f790a",
   "metadata": {},
   "outputs": [],
   "source": [
    "# Simulate a knowledge base\n",
    "def get_faq_answer(question: str) -> str:\n",
    "    faqs = {\n",
    "        \"shipping\": \"We offer free shipping for orders over ₹500. Delivery time is 3-5 business days.\",\n",
    "        \"return\": \"Returns are accepted within 15 days. Please ensure the product is unused.\",\n",
    "        \"warranty\": \"All electronics come with a 1-year warranty.\",\n",
    "    }\n",
    "    for key in faqs:\n",
    "        if key in question.lower():\n",
    "            return faqs[key]\n",
    "    return \"Sorry, I don't know the answer to that.\""
   ]
  },
  {
   "cell_type": "code",
   "execution_count": 38,
   "id": "7d090e22",
   "metadata": {},
   "outputs": [],
   "source": [
    "# Setup LLM with AzureChatOpenAI\n",
    "llm = AzureChatOpenAI(\n",
    "    openai_api_key=os.getenv(\"AZURE_OPENAI_API_KEY\"),\n",
    "    azure_endpoint=os.getenv(\"AZURE_OPENAI_ENDPOINT\"),\n",
    "    deployment_name=os.getenv(\"AZURE_OPENAI_DEPLOYMENT\"),\n",
    "    openai_api_version=\"2023-12-01-preview\",\n",
    "    temperature=0.7\n",
    ")\n",
    "\n",
    "faq_tool = Tool(\n",
    "    name=\"FAQTool\",\n",
    "    func=get_faq_answer,\n",
    "    description=\"Use this to answer questions about shipping, returns, and warranties.\"\n",
    ")\n",
    "\n",
    "memory = ConversationBufferMemory(memory_key=\"chat_history\")\n",
    "\n",
    "agent = initialize_agent(\n",
    "    tools=[faq_tool],\n",
    "    llm=llm,\n",
    "    agent=AgentType.CONVERSATIONAL_REACT_DESCRIPTION,\n",
    "    memory=memory,\n",
    "    verbose=True\n",
    ")"
   ]
  },
  {
   "cell_type": "code",
   "execution_count": 37,
   "id": "9df159d2",
   "metadata": {},
   "outputs": [
    {
     "name": "stdout",
     "output_type": "stream",
     "text": [
      "🛍️ Welcome to ShopSmart Support! Type 'exit' to leave.\n",
      "\n",
      "\n",
      "\n",
      "\u001b[1m> Entering new AgentExecutor chain...\u001b[0m\n",
      "\u001b[32;1m\u001b[1;3mThought: Do I need to use a tool? No  \n",
      "AI: Hi there! How can I assist you today?\u001b[0m\n",
      "\n",
      "\u001b[1m> Finished chain.\u001b[0m\n",
      "🤖 Agent: Hi there! How can I assist you today?\n",
      "\n",
      "\n",
      "\u001b[1m> Entering new AgentExecutor chain...\u001b[0m\n",
      "\u001b[32;1m\u001b[1;3mThought: Do I need to use a tool? Yes  \n",
      "Action: FAQTool  \n",
      "Action Input: What is your shipping policy?  \u001b[0m\n",
      "Observation: \u001b[36;1m\u001b[1;3mWe offer free shipping for orders over ₹500. Delivery time is 3-5 business days.\u001b[0m\n",
      "Thought:\u001b[32;1m\u001b[1;3mAI: We offer free shipping for orders over ₹500. Delivery typically takes 3-5 business days. If you have any more questions about shipping or anything else, feel free to ask!\u001b[0m\n",
      "\n",
      "\u001b[1m> Finished chain.\u001b[0m\n",
      "🤖 Agent: We offer free shipping for orders over ₹500. Delivery typically takes 3-5 business days. If you have any more questions about shipping or anything else, feel free to ask!\n",
      "\n",
      "\n",
      "\u001b[1m> Entering new AgentExecutor chain...\u001b[0m\n",
      "\u001b[32;1m\u001b[1;3mThought: Do I need to use a tool? Yes  \n",
      "Action: FAQTool  \n",
      "Action Input: How long do returns take?  \u001b[0m\n",
      "Observation: \u001b[36;1m\u001b[1;3mReturns are accepted within 15 days. Please ensure the product is unused.\u001b[0m\n",
      "Thought:\u001b[32;1m\u001b[1;3mAI: Returns are accepted within 15 days, and please make sure the product is unused when you return it. If you need more details or help with the return process, just let me know!\u001b[0m\n",
      "\n",
      "\u001b[1m> Finished chain.\u001b[0m\n",
      "🤖 Agent: Returns are accepted within 15 days, and please make sure the product is unused when you return it. If you need more details or help with the return process, just let me know!\n",
      "\n",
      "\n",
      "\u001b[1m> Entering new AgentExecutor chain...\u001b[0m\n",
      "\u001b[32;1m\u001b[1;3mThought: Do I need to use a tool? Yes  \n",
      "Action: FAQTool  \n",
      "Action Input: Do you offer warranty?  \u001b[0m\n",
      "Observation: \u001b[36;1m\u001b[1;3mAll electronics come with a 1-year warranty.\u001b[0m\n",
      "Thought:\u001b[32;1m\u001b[1;3mThought: Do I need to use a tool? No  \n",
      "AI: Yes, all electronics come with a 1-year warranty. If you need information about warranties for other types of products or have any other questions, feel free to ask!\u001b[0m\n",
      "\n",
      "\u001b[1m> Finished chain.\u001b[0m\n",
      "🤖 Agent: Yes, all electronics come with a 1-year warranty. If you need information about warranties for other types of products or have any other questions, feel free to ask!\n",
      "\n",
      "\n",
      "\u001b[1m> Entering new AgentExecutor chain...\u001b[0m\n",
      "\u001b[32;1m\u001b[1;3mThought: Do I need to use a tool? No  \n",
      "AI: Hi! I’m called Assistant. How can I help you today?\u001b[0m\n",
      "\n",
      "\u001b[1m> Finished chain.\u001b[0m\n",
      "🤖 Agent: Hi! I’m called Assistant. How can I help you today?\n",
      "🤖 Agent: Thank you for chatting. Have a great day!\n"
     ]
    }
   ],
   "source": [
    "# Chat loop\n",
    "if __name__ == \"__main__\":\n",
    "    print(\"🛍️ Welcome to ShopSmart Support! Type 'exit' to leave.\\n\")\n",
    "    while True:\n",
    "        user_input = input(\"🧑 You: \")\n",
    "        if user_input.lower() == \"exit\":\n",
    "            print(\"🤖 Agent: Thank you for chatting. Have a great day!\")\n",
    "            break\n",
    "        try:\n",
    "            response = agent.run(user_input)\n",
    "            print(\"🤖 Agent:\", response)\n",
    "        except Exception as e:\n",
    "            print(\"⚠️ Error:\", e)"
   ]
  }
 ],
 "metadata": {
  "kernelspec": {
   "display_name": "venv",
   "language": "python",
   "name": "python3"
  },
  "language_info": {
   "codemirror_mode": {
    "name": "ipython",
    "version": 3
   },
   "file_extension": ".py",
   "mimetype": "text/x-python",
   "name": "python",
   "nbconvert_exporter": "python",
   "pygments_lexer": "ipython3",
   "version": "3.9.6"
  }
 },
 "nbformat": 4,
 "nbformat_minor": 5
}
